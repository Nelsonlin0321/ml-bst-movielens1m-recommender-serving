{
 "cells": [
  {
   "cell_type": "code",
   "execution_count": 1,
   "metadata": {},
   "outputs": [],
   "source": [
    "import requests\n",
    "import json"
   ]
  },
  {
   "cell_type": "markdown",
   "metadata": {},
   "source": [
    "### Test health check"
   ]
  },
  {
   "cell_type": "code",
   "execution_count": 2,
   "metadata": {},
   "outputs": [],
   "source": [
    "url = \"http://localhost:9000/2015-03-31/functions/function/invocations\"\n",
    "\n",
    "payload = {\n",
    "    \"resource\": \"/healthcheck\",\n",
    "    \"path\": \"/healthcheck\",\n",
    "    \"httpMethod\": \"GET\",\n",
    "    \"requestContext\": {\n",
    "        },\n",
    "    \"isBase64Encoded\": False\n",
    "}\n",
    "\n",
    "headers = {\n",
    "    \"Content-Type\": \"application/json\"\n",
    "}\n",
    "\n",
    "response = requests.post(url, data=json.dumps(payload), headers=headers)"
   ]
  },
  {
   "cell_type": "code",
   "execution_count": 3,
   "metadata": {},
   "outputs": [
    {
     "name": "stdout",
     "output_type": "stream",
     "text": [
      "{'statusCode': 200, 'headers': {'content-length': '95', 'content-type': 'application/json'}, 'multiValueHeaders': {}, 'body': '{\"message\":\"The server is up since 2023-08-12 03:57:28\",\"start_uct_time\":\"2023-08-12 03:57:28\"}', 'isBase64Encoded': False}\n"
     ]
    }
   ],
   "source": [
    "print(response.json())"
   ]
  },
  {
   "cell_type": "markdown",
   "metadata": {},
   "source": [
    "```sh\n",
    "# Same as \n",
    "curl -XPOST \"http://localhost:9000/2015-03-31/functions/function/invocations\" -d '{\n",
    "    \"resource\": \"/healthcheck\",\n",
    "    \"path\": \"/healthcheck\",\n",
    "    \"httpMethod\": \"GET\",\n",
    "    \"requestContext\": {\n",
    "    },\n",
    "    \"isBase64Encoded\": false\n",
    "}'\n",
    "```\n"
   ]
  },
  {
   "cell_type": "markdown",
   "metadata": {},
   "source": [
    "### Test Recommend Endpoint "
   ]
  },
  {
   "cell_type": "code",
   "execution_count": 7,
   "metadata": {},
   "outputs": [],
   "source": [
    "event = {'movie_ids':[1,2,3,4],\n",
    "'user_age':23,\n",
    "\"sex\":\"M\",\n",
    "\"topk\":5}"
   ]
  },
  {
   "cell_type": "code",
   "execution_count": 8,
   "metadata": {},
   "outputs": [],
   "source": [
    "payload = {\n",
    "    \"resource\": \"/recommend\",\n",
    "    \"path\": \"/recommend\",\n",
    "    \"httpMethod\": \"POST\",\n",
    "    \"requestContext\": {\n",
    "        \"resourcePath\": \"/recommend\",\n",
    "        \"httpMethod\": \"POST\"\n",
    "        },\n",
    "        \"body\": json.dumps(event),\n",
    "        \"isBase64Encoded\": False\n",
    "}\n",
    "\n",
    "headers = {\n",
    "    \"Content-Type\": \"application/json\"\n",
    "}"
   ]
  },
  {
   "cell_type": "code",
   "execution_count": 9,
   "metadata": {},
   "outputs": [],
   "source": [
    "response = requests.post(url, data=json.dumps(payload), headers=headers)"
   ]
  },
  {
   "cell_type": "code",
   "execution_count": 10,
   "metadata": {},
   "outputs": [
    {
     "name": "stdout",
     "output_type": "stream",
     "text": [
      "{'statusCode': 200, 'headers': {'content-length': '983', 'content-type': 'application/json'}, 'multiValueHeaders': {}, 'body': '[{\"movie_id\":318,\"title\":\"Shawshank Redemption, The (1994)\",\"genres\":[\"Drama\"],\"release_year\":1994,\"origin_title\":\"Shawshank Redemption, The\",\"rating\":5.0},{\"movie_id\":858,\"title\":\"Godfather, The (1972)\",\"genres\":[\"Action\",\"Crime\",\"Drama\"],\"release_year\":1972,\"origin_title\":\"Godfather, The\",\"rating\":5.0},{\"movie_id\":2019,\"title\":\"Seven Samurai (The Magnificent Seven) (Shichinin no samurai) (1954)\",\"genres\":[\"Action\",\"Drama\"],\"release_year\":1954,\"origin_title\":\"Seven Samurai (The Magnificent Seven) (Shichinin no samurai)\",\"rating\":5.0},{\"movie_id\":593,\"title\":\"Silence of the Lambs, The (1991)\",\"genres\":[\"Drama\",\"Thriller\"],\"release_year\":1991,\"origin_title\":\"Silence of the Lambs, The\",\"rating\":4.999999523162842},{\"movie_id\":750,\"title\":\"Dr. Strangelove or: How I Learned to Stop Worrying and Love the Bomb (1963)\",\"genres\":[\"Sci-Fi\",\"War\"],\"release_year\":1963,\"origin_title\":\"Dr. Strangelove or: How I Learned to Stop Worrying and Love the Bomb\",\"rating\":4.999999523162842}]', 'isBase64Encoded': False}\n"
     ]
    }
   ],
   "source": [
    "print(response.json())"
   ]
  },
  {
   "cell_type": "markdown",
   "metadata": {},
   "source": [
    "```sh\n",
    "# Same AS\n",
    "curl -XPOST \"http://localhost:9000/2015-03-31/functions/function/invocations\" -d '{\n",
    "    \"resource\": \"/recommend\",\n",
    "    \"path\": \"/recommend\",\n",
    "    \"httpMethod\": \"POST\",\n",
    "    \"requestContext\": {\n",
    "        \"resourcePath\": \"/recommend\",\n",
    "        \"httpMethod\": \"POST\"\n",
    "    },\n",
    "    \"body\": \"{\\\"movie_ids\\\": [1, 2, 3, 4], \\\"user_age\\\": 23, \\\"sex\\\": \\\"M\\\", \\\"topk\\\": 1}\",\n",
    "    \"isBase64Encoded\": false\n",
    "}'\n",
    "```"
   ]
  },
  {
   "cell_type": "markdown",
   "metadata": {},
   "source": []
  }
 ],
 "metadata": {
  "kernelspec": {
   "display_name": "venv",
   "language": "python",
   "name": "python3"
  },
  "language_info": {
   "codemirror_mode": {
    "name": "ipython",
    "version": 3
   },
   "file_extension": ".py",
   "mimetype": "text/x-python",
   "name": "python",
   "nbconvert_exporter": "python",
   "pygments_lexer": "ipython3",
   "version": "3.10.8"
  },
  "orig_nbformat": 4
 },
 "nbformat": 4,
 "nbformat_minor": 2
}
