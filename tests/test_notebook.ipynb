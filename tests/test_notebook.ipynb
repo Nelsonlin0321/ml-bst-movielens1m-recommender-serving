{
 "cells": [
  {
   "cell_type": "code",
   "execution_count": 1,
   "metadata": {},
   "outputs": [],
   "source": [
    "import requests"
   ]
  },
  {
   "cell_type": "code",
   "execution_count": 2,
   "metadata": {},
   "outputs": [],
   "source": [
    "event = {'movie_ids':[1,2,3,4],\n",
    "             'user_age':23,\n",
    "             \"sex\":\"M\",\n",
    "             \"topk\":20}"
   ]
  },
  {
   "cell_type": "code",
   "execution_count": 3,
   "metadata": {},
   "outputs": [],
   "source": [
    "url = 'http://localhost:9000/2015-03-31/functions/function/invocations'"
   ]
  },
  {
   "cell_type": "code",
   "execution_count": 4,
   "metadata": {},
   "outputs": [],
   "source": [
    "response = actual_response = requests.post(url, json=event)"
   ]
  },
  {
   "cell_type": "code",
   "execution_count": 6,
   "metadata": {},
   "outputs": [
    {
     "data": {
      "text/plain": [
       "'[{\"movie_id\": 318, \"title\": \"Shawshank Redemption, The (1994)\", \"genres\": [\"Drama\"], \"release_year\": 1994, \"origin_title\": \"Shawshank Redemption, The\", \"rating\": 4.999999523162842}, {\"movie_id\": 750, \"title\": \"Dr. Strangelove or: How I Learned to Stop Worrying and Love the Bomb (1963)\", \"genres\": [\"Sci-Fi\", \"War\"], \"release_year\": 1963, \"origin_title\": \"Dr. Strangelove or: How I Learned to Stop Worrying and Love the Bomb\", \"rating\": 4.999999523162842}, {\"movie_id\": 50, \"title\": \"Usual Suspects, The (1995)\", \"genres\": [\"Crime\", \"Thriller\"], \"release_year\": 1995, \"origin_title\": \"Usual Suspects, The\", \"rating\": 4.999999046325684}, {\"movie_id\": 593, \"title\": \"Silence of the Lambs, The (1991)\", \"genres\": [\"Drama\", \"Thriller\"], \"release_year\": 1991, \"origin_title\": \"Silence of the Lambs, The\", \"rating\": 4.999998569488525}, {\"movie_id\": 1148, \"title\": \"Wrong Trousers, The (1993)\", \"genres\": [\"Animation\", \"Comedy\"], \"release_year\": 1993, \"origin_title\": \"Wrong Trousers, The\", \"rating\": 4.999998092651367}, {\"movie_id\": 527, \"title\": \"Schindler\\'s List (1993)\", \"genres\": [\"Drama\", \"War\"], \"release_year\": 1993, \"origin_title\": \"Schindler\\'s List\", \"rating\": 4.999993801116943}, {\"movie_id\": 1193, \"title\": \"One Flew Over the Cuckoo\\'s Nest (1975)\", \"genres\": [\"Drama\"], \"release_year\": 1975, \"origin_title\": \"One Flew Over the Cuckoo\\'s Nest\", \"rating\": 4.999980449676514}, {\"movie_id\": 2762, \"title\": \"Sixth Sense, The (1999)\", \"genres\": [\"Thriller\"], \"release_year\": 1999, \"origin_title\": \"Sixth Sense, The\", \"rating\": 4.999972343444824}, {\"movie_id\": 858, \"title\": \"Godfather, The (1972)\", \"genres\": [\"Action\", \"Crime\", \"Drama\"], \"release_year\": 1972, \"origin_title\": \"Godfather, The\", \"rating\": 4.999971389770508}, {\"movie_id\": 2858, \"title\": \"American Beauty (1999)\", \"genres\": [\"Comedy\", \"Drama\"], \"release_year\": 1999, \"origin_title\": \"American Beauty\", \"rating\": 4.999964714050293}, {\"movie_id\": 260, \"title\": \"Star Wars: Episode IV - A New Hope (1977)\", \"genres\": [\"Action\", \"Adventure\", \"Fantasy\", \"Sci-Fi\"], \"release_year\": 1977, \"origin_title\": \"Star Wars: Episode IV - A New Hope\", \"rating\": 4.999916076660156}, {\"movie_id\": 2019, \"title\": \"Seven Samurai (The Magnificent Seven) (Shichinin no samurai) (1954)\", \"genres\": [\"Action\", \"Drama\"], \"release_year\": 1954, \"origin_title\": \"Seven Samurai (The Magnificent Seven) (Shichinin no samurai)\", \"rating\": 4.999876022338867}, {\"movie_id\": 1198, \"title\": \"Raiders of the Lost Ark (1981)\", \"genres\": [\"Action\", \"Adventure\"], \"release_year\": 1981, \"origin_title\": \"Raiders of the Lost Ark\", \"rating\": 4.999758720397949}, {\"movie_id\": 922, \"title\": \"Sunset Blvd. (a.k.a. Sunset Boulevard) (1950)\", \"genres\": [\"Film-Noir\"], \"release_year\": 1950, \"origin_title\": \"Sunset Blvd. (a.k.a. Sunset Boulevard)\", \"rating\": 4.999739170074463}, {\"movie_id\": 2324, \"title\": \"Life Is Beautiful (La Vita \\\\u00e8 bella) (1997)\", \"genres\": [\"Comedy\", \"Drama\"], \"release_year\": 1997, \"origin_title\": \"Life Is Beautiful (La Vita \\\\u00e8 bella)\", \"rating\": 4.999627113342285}, {\"movie_id\": 745, \"title\": \"Close Shave, A (1995)\", \"genres\": [\"Animation\", \"Comedy\", \"Thriller\"], \"release_year\": 1995, \"origin_title\": \"Close Shave, A\", \"rating\": 4.999272346496582}, {\"movie_id\": 1178, \"title\": \"Paths of Glory (1957)\", \"genres\": [\"Drama\", \"War\"], \"release_year\": 1957, \"origin_title\": \"Paths of Glory\", \"rating\": 4.998790264129639}, {\"movie_id\": 2571, \"title\": \"Matrix, The (1999)\", \"genres\": [\"Action\", \"Sci-Fi\", \"Thriller\"], \"release_year\": 1999, \"origin_title\": \"Matrix, The\", \"rating\": 4.998607158660889}, {\"movie_id\": 923, \"title\": \"Citizen Kane (1941)\", \"genres\": [\"Drama\"], \"release_year\": 1941, \"origin_title\": \"Citizen Kane\", \"rating\": 4.9978179931640625}, {\"movie_id\": 904, \"title\": \"Rear Window (1954)\", \"genres\": [\"Mystery\", \"Thriller\"], \"release_year\": 1954, \"origin_title\": \"Rear Window\", \"rating\": 4.997800827026367}]'"
      ]
     },
     "execution_count": 6,
     "metadata": {},
     "output_type": "execute_result"
    }
   ],
   "source": [
    "response.json()['body']"
   ]
  }
 ],
 "metadata": {
  "kernelspec": {
   "display_name": "venv",
   "language": "python",
   "name": "python3"
  },
  "language_info": {
   "codemirror_mode": {
    "name": "ipython",
    "version": 3
   },
   "file_extension": ".py",
   "mimetype": "text/x-python",
   "name": "python",
   "nbconvert_exporter": "python",
   "pygments_lexer": "ipython3",
   "version": "3.10.8"
  },
  "orig_nbformat": 4
 },
 "nbformat": 4,
 "nbformat_minor": 2
}
