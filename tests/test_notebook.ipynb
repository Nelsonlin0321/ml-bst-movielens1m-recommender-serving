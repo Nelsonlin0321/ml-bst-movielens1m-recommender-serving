{
 "cells": [
  {
   "cell_type": "code",
   "execution_count": 1,
   "metadata": {},
   "outputs": [],
   "source": [
    "import os\n",
    "import requests\n",
    "import json\n",
    "import boto3\n",
    "import dotenv"
   ]
  },
  {
   "cell_type": "code",
   "execution_count": 2,
   "metadata": {},
   "outputs": [
    {
     "data": {
      "text/plain": [
       "True"
      ]
     },
     "execution_count": 2,
     "metadata": {},
     "output_type": "execute_result"
    }
   ],
   "source": [
    "dotenv.load_dotenv(\"./../.env\")"
   ]
  },
  {
   "cell_type": "markdown",
   "metadata": {},
   "source": [
    "# Test Ddocker"
   ]
  },
  {
   "cell_type": "markdown",
   "metadata": {},
   "source": [
    "### Test health check"
   ]
  },
  {
   "cell_type": "code",
   "execution_count": 3,
   "metadata": {},
   "outputs": [],
   "source": [
    "url = \"http://localhost:9000/2015-03-31/functions/function/invocations\"\n",
    "\n",
    "payload = {\n",
    "    \"resource\": \"/healthcheck\",\n",
    "    \"path\": \"/healthcheck\",\n",
    "    \"httpMethod\": \"GET\",\n",
    "    \"requestContext\": {\n",
    "    },\n",
    "    \"isBase64Encoded\": False\n",
    "}\n",
    "\n",
    "headers = {\n",
    "    \"Content-Type\": \"application/json\"\n",
    "}\n",
    "\n",
    "response = requests.post(url, data=json.dumps(payload), headers=headers)"
   ]
  },
  {
   "cell_type": "code",
   "execution_count": 4,
   "metadata": {},
   "outputs": [
    {
     "name": "stdout",
     "output_type": "stream",
     "text": [
      "{'statusCode': 200, 'headers': {'content-length': '95', 'content-type': 'application/json'}, 'multiValueHeaders': {}, 'body': '{\"message\":\"The server is up since 2023-08-12 12:13:09\",\"start_uct_time\":\"2023-08-12 12:13:09\"}', 'isBase64Encoded': False}\n"
     ]
    }
   ],
   "source": [
    "print(response.json())"
   ]
  },
  {
   "cell_type": "markdown",
   "metadata": {},
   "source": [
    "```sh\n",
    "# Same as \n",
    "curl -XPOST \"http://localhost:9000/2015-03-31/functions/function/invocations\" -d '{\n",
    "    \"resource\": \"/healthcheck\",\n",
    "    \"path\": \"/healthcheck\",\n",
    "    \"httpMethod\": \"GET\",\n",
    "    \"requestContext\": {\n",
    "    },\n",
    "    \"isBase64Encoded\": false\n",
    "}'\n",
    "```\n"
   ]
  },
  {
   "cell_type": "markdown",
   "metadata": {},
   "source": [
    "### Test Recommend Endpoint "
   ]
  },
  {
   "cell_type": "code",
   "execution_count": 5,
   "metadata": {},
   "outputs": [],
   "source": [
    "event = {'movie_ids': [1, 2, 3, 4],\n",
    "         'user_age': 23,\n",
    "         \"sex\": \"M\",\n",
    "         \"topk\": 10}"
   ]
  },
  {
   "cell_type": "code",
   "execution_count": 6,
   "metadata": {},
   "outputs": [],
   "source": [
    "payload = {\n",
    "    \"resource\": \"/recommend\",\n",
    "    \"path\": \"/recommend\",\n",
    "    \"httpMethod\": \"POST\",\n",
    "    \"requestContext\": {\n",
    "        \"resourcePath\": \"/recommend\",\n",
    "        \"httpMethod\": \"POST\"\n",
    "    },\n",
    "    \"body\": json.dumps(event),\n",
    "    \"isBase64Encoded\": False\n",
    "}\n",
    "\n",
    "headers = {\n",
    "    \"Content-Type\": \"application/json\"\n",
    "}"
   ]
  },
  {
   "cell_type": "code",
   "execution_count": 7,
   "metadata": {},
   "outputs": [],
   "source": [
    "response = requests.post(url, data=json.dumps(payload), headers=headers)"
   ]
  },
  {
   "cell_type": "code",
   "execution_count": 8,
   "metadata": {},
   "outputs": [
    {
     "name": "stdout",
     "output_type": "stream",
     "text": [
      "{'statusCode': 200, 'headers': {'content-length': '1812', 'content-type': 'application/json'}, 'multiValueHeaders': {}, 'body': '[{\"movie_id\":50,\"title\":\"Usual Suspects, The (1995)\",\"genres\":[\"Crime\",\"Thriller\"],\"release_year\":1995,\"origin_title\":\"Usual Suspects, The\",\"rating\":5.0},{\"movie_id\":318,\"title\":\"Shawshank Redemption, The (1994)\",\"genres\":[\"Drama\"],\"release_year\":1994,\"origin_title\":\"Shawshank Redemption, The\",\"rating\":5.0},{\"movie_id\":527,\"title\":\"Schindler\\'s List (1993)\",\"genres\":[\"Drama\",\"War\"],\"release_year\":1993,\"origin_title\":\"Schindler\\'s List\",\"rating\":5.0},{\"movie_id\":750,\"title\":\"Dr. Strangelove or: How I Learned to Stop Worrying and Love the Bomb (1963)\",\"genres\":[\"Sci-Fi\",\"War\"],\"release_year\":1963,\"origin_title\":\"Dr. Strangelove or: How I Learned to Stop Worrying and Love the Bomb\",\"rating\":5.0},{\"movie_id\":858,\"title\":\"Godfather, The (1972)\",\"genres\":[\"Action\",\"Crime\",\"Drama\"],\"release_year\":1972,\"origin_title\":\"Godfather, The\",\"rating\":4.999999523162842},{\"movie_id\":2019,\"title\":\"Seven Samurai (The Magnificent Seven) (Shichinin no samurai) (1954)\",\"genres\":[\"Action\",\"Drama\"],\"release_year\":1954,\"origin_title\":\"Seven Samurai (The Magnificent Seven) (Shichinin no samurai)\",\"rating\":4.999998092651367},{\"movie_id\":912,\"title\":\"Casablanca (1942)\",\"genres\":[\"Drama\",\"Romance\",\"War\"],\"release_year\":1942,\"origin_title\":\"Casablanca\",\"rating\":4.999997615814209},{\"movie_id\":260,\"title\":\"Star Wars: Episode IV - A New Hope (1977)\",\"genres\":[\"Action\",\"Adventure\",\"Fantasy\",\"Sci-Fi\"],\"release_year\":1977,\"origin_title\":\"Star Wars: Episode IV - A New Hope\",\"rating\":4.999996662139893},{\"movie_id\":904,\"title\":\"Rear Window (1954)\",\"genres\":[\"Mystery\",\"Thriller\"],\"release_year\":1954,\"origin_title\":\"Rear Window\",\"rating\":4.999992370605469},{\"movie_id\":1148,\"title\":\"Wrong Trousers, The (1993)\",\"genres\":[\"Animation\",\"Comedy\"],\"release_year\":1993,\"origin_title\":\"Wrong Trousers, The\",\"rating\":4.999990940093994}]', 'isBase64Encoded': False}\n"
     ]
    }
   ],
   "source": [
    "print(response.json())"
   ]
  },
  {
   "cell_type": "code",
   "execution_count": 10,
   "metadata": {},
   "outputs": [
    {
     "data": {
      "text/plain": [
       "10"
      ]
     },
     "execution_count": 10,
     "metadata": {},
     "output_type": "execute_result"
    }
   ],
   "source": [
    "len(json.loads(response.json()['body']))"
   ]
  },
  {
   "cell_type": "markdown",
   "metadata": {},
   "source": [
    "```sh\n",
    "# Same AS\n",
    "curl -XPOST \"http://localhost:9000/2015-03-31/functions/function/invocations\" -d '{\n",
    "    \"resource\": \"/recommend\",\n",
    "    \"path\": \"/recommend\",\n",
    "    \"httpMethod\": \"POST\",\n",
    "    \"requestContext\": {\n",
    "        \"resourcePath\": \"/recommend\",\n",
    "        \"httpMethod\": \"POST\"\n",
    "    },\n",
    "    \"body\": \"{\\\"movie_ids\\\": [1, 2, 3, 4], \\\"user_age\\\": 23, \\\"sex\\\": \\\"M\\\", \\\"topk\\\": 1}\",\n",
    "    \"isBase64Encoded\": false\n",
    "}'\n",
    "```"
   ]
  },
  {
   "cell_type": "markdown",
   "metadata": {},
   "source": [
    "# Test Lambda"
   ]
  },
  {
   "cell_type": "code",
   "execution_count": 9,
   "metadata": {},
   "outputs": [],
   "source": [
    "REGION = os.getenv(\"AWS_DEFAULT_REGION\", \"ap-southeast-1\")"
   ]
  },
  {
   "cell_type": "code",
   "execution_count": 10,
   "metadata": {},
   "outputs": [],
   "source": [
    "session = boto3.Session(region_name=REGION)"
   ]
  },
  {
   "cell_type": "code",
   "execution_count": 11,
   "metadata": {},
   "outputs": [],
   "source": [
    "lambda_client = session.client('lambda')"
   ]
  },
  {
   "cell_type": "code",
   "execution_count": 12,
   "metadata": {},
   "outputs": [],
   "source": [
    "with open(\"./../integration_test/test_healthcheck_payload.json\", mode='r', encoding='utf-8') as f:\n",
    "    payload = f.read()\n",
    "\n",
    "response = lambda_client.invoke(\n",
    "    FunctionName='movielens1m-recommender-lambda',\n",
    "    Payload=payload\n",
    ")"
   ]
  },
  {
   "cell_type": "code",
   "execution_count": 13,
   "metadata": {},
   "outputs": [],
   "source": [
    "with open(\"./../integration_test/test_recommend_payload.json\", mode='r', encoding='utf-8') as f:\n",
    "    payload = f.read()\n",
    "\n",
    "response = lambda_client.invoke(\n",
    "    FunctionName='movielens1m-recommender-lambda',\n",
    "    Payload=payload\n",
    ")"
   ]
  },
  {
   "cell_type": "markdown",
   "metadata": {},
   "source": [
    "# Test API Gateway"
   ]
  },
  {
   "cell_type": "code",
   "execution_count": 12,
   "metadata": {},
   "outputs": [],
   "source": [
    "response = requests.post(\n",
    "    \"https://j87zs9ftf4.execute-api.ap-southeast-1.amazonaws.com/production/recommend\", data=json.dumps(event))"
   ]
  },
  {
   "cell_type": "code",
   "execution_count": 13,
   "metadata": {},
   "outputs": [
    {
     "data": {
      "text/plain": [
       "[{'movie_id': 318,\n",
       "  'title': 'Shawshank Redemption, The (1994)',\n",
       "  'genres': ['Drama'],\n",
       "  'release_year': 1994,\n",
       "  'origin_title': 'Shawshank Redemption, The',\n",
       "  'rating': 5.0},\n",
       " {'movie_id': 50,\n",
       "  'title': 'Usual Suspects, The (1995)',\n",
       "  'genres': ['Crime', 'Thriller'],\n",
       "  'release_year': 1995,\n",
       "  'origin_title': 'Usual Suspects, The',\n",
       "  'rating': 4.999999523162842},\n",
       " {'movie_id': 1148,\n",
       "  'title': 'Wrong Trousers, The (1993)',\n",
       "  'genres': ['Animation', 'Comedy'],\n",
       "  'release_year': 1993,\n",
       "  'origin_title': 'Wrong Trousers, The',\n",
       "  'rating': 4.999999523162842},\n",
       " {'movie_id': 260,\n",
       "  'title': 'Star Wars: Episode IV - A New Hope (1977)',\n",
       "  'genres': ['Action', 'Adventure', 'Fantasy', 'Sci-Fi'],\n",
       "  'release_year': 1977,\n",
       "  'origin_title': 'Star Wars: Episode IV - A New Hope',\n",
       "  'rating': 4.999999523162842},\n",
       " {'movie_id': 2019,\n",
       "  'title': 'Seven Samurai (The Magnificent Seven) (Shichinin no samurai) (1954)',\n",
       "  'genres': ['Action', 'Drama'],\n",
       "  'release_year': 1954,\n",
       "  'origin_title': 'Seven Samurai (The Magnificent Seven) (Shichinin no samurai)',\n",
       "  'rating': 4.999998092651367},\n",
       " {'movie_id': 912,\n",
       "  'title': 'Casablanca (1942)',\n",
       "  'genres': ['Drama', 'Romance', 'War'],\n",
       "  'release_year': 1942,\n",
       "  'origin_title': 'Casablanca',\n",
       "  'rating': 4.999998092651367},\n",
       " {'movie_id': 745,\n",
       "  'title': 'Close Shave, A (1995)',\n",
       "  'genres': ['Animation', 'Comedy', 'Thriller'],\n",
       "  'release_year': 1995,\n",
       "  'origin_title': 'Close Shave, A',\n",
       "  'rating': 4.999997615814209},\n",
       " {'movie_id': 858,\n",
       "  'title': 'Godfather, The (1972)',\n",
       "  'genres': ['Action', 'Crime', 'Drama'],\n",
       "  'release_year': 1972,\n",
       "  'origin_title': 'Godfather, The',\n",
       "  'rating': 4.999978065490723},\n",
       " {'movie_id': 2762,\n",
       "  'title': 'Sixth Sense, The (1999)',\n",
       "  'genres': ['Thriller'],\n",
       "  'release_year': 1999,\n",
       "  'origin_title': 'Sixth Sense, The',\n",
       "  'rating': 4.999970436096191},\n",
       " {'movie_id': 527,\n",
       "  'title': \"Schindler's List (1993)\",\n",
       "  'genres': ['Drama', 'War'],\n",
       "  'release_year': 1993,\n",
       "  'origin_title': \"Schindler's List\",\n",
       "  'rating': 4.999948501586914}]"
      ]
     },
     "execution_count": 13,
     "metadata": {},
     "output_type": "execute_result"
    }
   ],
   "source": [
    "response.json()"
   ]
  },
  {
   "cell_type": "markdown",
   "metadata": {},
   "source": []
  }
 ],
 "metadata": {
  "kernelspec": {
   "display_name": "venv",
   "language": "python",
   "name": "python3"
  },
  "language_info": {
   "codemirror_mode": {
    "name": "ipython",
    "version": 3
   },
   "file_extension": ".py",
   "mimetype": "text/x-python",
   "name": "python",
   "nbconvert_exporter": "python",
   "pygments_lexer": "ipython3",
   "version": "3.10.8"
  },
  "orig_nbformat": 4
 },
 "nbformat": 4,
 "nbformat_minor": 2
}
